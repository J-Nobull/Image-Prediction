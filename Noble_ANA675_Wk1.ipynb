{
  "nbformat": 4,
  "nbformat_minor": 0,
  "metadata": {
    "colab": {
      "provenance": []
    },
    "kernelspec": {
      "name": "python3",
      "display_name": "Python 3"
    },
    "language_info": {
      "name": "python"
    }
  },
  "cells": [
    {
      "cell_type": "markdown",
      "source": [
        "# Train model to predict digits from image library"
      ],
      "metadata": {
        "id": "t0GnsqmGkYyq"
      }
    },
    {
      "cell_type": "code",
      "execution_count": 1,
      "metadata": {
        "id": "8wkGayTB9eIT"
      },
      "outputs": [],
      "source": [
        "    # Initial packages\n",
        "import pandas as pd\n",
        "import numpy as np\n",
        "import matplotlib.pyplot as plt\n",
        "from sklearn.metrics import classification_report, confusion_matrix, accuracy_score\n",
        "from sklearn.datasets import load_digits\n",
        "from sklearn.model_selection import train_test_split\n",
        "from sklearn.neighbors import KNeighborsClassifier\n",
        "from sklearn.svm import SVC\n",
        "from sklearn.naive_bayes import GaussianNB"
      ]
    },
    {
      "cell_type": "markdown",
      "source": [
        "# Load and inspect data"
      ],
      "metadata": {
        "id": "Ko_vdqx42EKT"
      }
    },
    {
      "cell_type": "code",
      "source": [
        "    # Load the digits dataset\n",
        "digits = load_digits()"
      ],
      "metadata": {
        "id": "Rmlxfs9spsgx"
      },
      "execution_count": 2,
      "outputs": []
    },
    {
      "cell_type": "code",
      "source": [
        "    # Print basic stats\n",
        "unique, counts = np.unique(digits.target, return_counts=True)\n",
        "digit_dist = dict(zip(unique, counts))\n",
        "print(\"Digit distribution in dataset:\", digit_dist)"
      ],
      "metadata": {
        "colab": {
          "base_uri": "https://localhost:8080/"
        },
        "id": "gwO84MFep9n4",
        "outputId": "6ce8eec6-f4a1-4e4b-abe7-cb0bc5fdbe70"
      },
      "execution_count": 3,
      "outputs": [
        {
          "output_type": "stream",
          "name": "stdout",
          "text": [
            "Digit distribution in dataset: {np.int64(0): np.int64(178), np.int64(1): np.int64(182), np.int64(2): np.int64(177), np.int64(3): np.int64(183), np.int64(4): np.int64(181), np.int64(5): np.int64(182), np.int64(6): np.int64(181), np.int64(7): np.int64(179), np.int64(8): np.int64(174), np.int64(9): np.int64(180)}\n"
          ]
        }
      ]
    },
    {
      "cell_type": "code",
      "source": [
        "    # Confirm shape\n",
        "print(f\"Images shape: {digits.images.shape}\")\n",
        "print(f\"Data shape: {digits.data.shape}\")\n",
        "print(f\"Target shape: {digits.target.shape}\")"
      ],
      "metadata": {
        "colab": {
          "base_uri": "https://localhost:8080/"
        },
        "id": "rKuHWkKBpw8y",
        "outputId": "a1ca2e0d-9645-4291-9910-a9a3113fca72"
      },
      "execution_count": 4,
      "outputs": [
        {
          "output_type": "stream",
          "name": "stdout",
          "text": [
            "Images shape: (1797, 8, 8)\n",
            "Data shape: (1797, 64)\n",
            "Target shape: (1797,)\n"
          ]
        }
      ]
    },
    {
      "cell_type": "code",
      "source": [
        "    # Show the first 10 images\n",
        "fig, axes = plt.subplots(2, 5, figsize=(10, 4))\n",
        "for i, ax in enumerate(axes.flat):\n",
        "   ax.imshow(digits.images[i])\n",
        "   ax.set_title(str(digits.target[i]), fontsize=12)\n",
        "plt.tight_layout()\n",
        "plt.show()"
      ],
      "metadata": {
        "colab": {
          "base_uri": "https://localhost:8080/",
          "height": 413
        },
        "id": "MGXWKezkwBjO",
        "outputId": "629298ca-c874-4f1c-c799-87a7999d760b"
      },
      "execution_count": 5,
      "outputs": [
        {
          "output_type": "display_data",
          "data": {
            "text/plain": [
              "<Figure size 1000x400 with 10 Axes>"
            ],
            "image/png": "[encoded data removed]"
          },
          "metadata": {}
        }
      ]
    },
    {
      "cell_type": "markdown",
      "source": [
        "# Split into testing and training"
      ],
      "metadata": {
        "id": "tEdvV9pp2NGo"
      }
    },
    {
      "cell_type": "code",
      "source": [
        "    # Set up data into images (X) and labels (y)\n",
        "X = digits.data  # Flattened image [8x8] data (1797, 64)\n",
        "y = digits.target  # Digit labels (0–9)"
      ],
      "metadata": {
        "id": "1bla2smZ22UJ"
      },
      "execution_count": 6,
      "outputs": []
    },
    {
      "cell_type": "code",
      "source": [
        "    # Split into training/test sets (80% training/20% testing)\n",
        "X_train, X_test, y_train, y_test = train_test_split(X, y, test_size=0.2, random_state=675, stratify=y)\n",
        "\n",
        "# Print shapes to confirm\n",
        "print(\"Training set shape:\", X_train.shape)\n",
        "print(\"Testing set shape:\", X_test.shape)"
      ],
      "metadata": {
        "colab": {
          "base_uri": "https://localhost:8080/"
        },
        "id": "NDeXQOmY2T3R",
        "outputId": "616e8e66-4abe-41b4-9b9e-2706a28c9c18"
      },
      "execution_count": 7,
      "outputs": [
        {
          "output_type": "stream",
          "name": "stdout",
          "text": [
            "Training set shape: (1437, 64)\n",
            "Testing set shape: (360, 64)\n"
          ]
        }
      ]
    },
    {
      "cell_type": "markdown",
      "source": [
        "# Select and build models"
      ],
      "metadata": {
        "id": "-ovy-V7eonu8"
      }
    },
    {
      "cell_type": "code",
      "source": [
        "    # Initialize the three classification models\n",
        "knn_model = KNeighborsClassifier()\n",
        "svc_model = SVC(random_state=675)\n",
        "gnb_model = GaussianNB()"
      ],
      "metadata": {
        "id": "vWeXZlEUr06M"
      },
      "execution_count": 8,
      "outputs": []
    },
    {
      "cell_type": "markdown",
      "source": [
        "# Training"
      ],
      "metadata": {
        "id": "WxoZiSc2KtvU"
      }
    },
    {
      "cell_type": "markdown",
      "source": [
        "# Model 1\n",
        ">K-Nearest Neighbors"
      ],
      "metadata": {
        "id": "UiJieu6QuJIW"
      }
    },
    {
      "cell_type": "code",
      "source": [
        "    # Train model (default is n_neighbors=5)\n",
        "knn_model.fit(X_train, y_train)\n",
        "\n",
        "    # Predict\n",
        "knn_preds = knn_model.predict(X_test)\n",
        "\n",
        "    # Evaluate\n",
        "print(\"---- K-Nearest Neighbors ----\")\n",
        "for i in range(10):\n",
        "   print(f\"Sample {i}: Label = {y_test[i]}, Predicted = {knn_preds[i]}\")\n",
        "print(\"\\nAccuracy:\", accuracy_score(y_test, knn_preds))\n",
        "print(\"Classification Report:\\n\", classification_report(y_test, knn_preds))\n",
        "print(\"Confusion Matrix:\\n\", confusion_matrix(y_test, knn_preds))"
      ],
      "metadata": {
        "colab": {
          "base_uri": "https://localhost:8080/"
        },
        "id": "FB8wYrmQKrwK",
        "outputId": "2a9479b3-3a7b-4af5-8a23-f5a8d8b09868"
      },
      "execution_count": 9,
      "outputs": [
        {
          "output_type": "stream",
          "name": "stdout",
          "text": [
            "---- K-Nearest Neighbors ----\n",
            "Sample 0: Label = 2, Predicted = 2\n",
            "Sample 1: Label = 5, Predicted = 5\n",
            "Sample 2: Label = 2, Predicted = 2\n",
            "Sample 3: Label = 2, Predicted = 2\n",
            "Sample 4: Label = 8, Predicted = 8\n",
            "Sample 5: Label = 4, Predicted = 4\n",
            "Sample 6: Label = 7, Predicted = 7\n",
            "Sample 7: Label = 3, Predicted = 3\n",
            "Sample 8: Label = 2, Predicted = 2\n",
            "Sample 9: Label = 8, Predicted = 1\n",
            "\n",
            "Accuracy: 0.9833333333333333\n",
            "Classification Report:\n",
            "               precision    recall  f1-score   support\n",
            "\n",
            "           0       1.00      1.00      1.00        36\n",
            "           1       0.93      1.00      0.96        37\n",
            "           2       1.00      0.97      0.99        35\n",
            "           3       0.95      0.97      0.96        37\n",
            "           4       1.00      1.00      1.00        36\n",
            "           5       1.00      1.00      1.00        36\n",
            "           6       1.00      1.00      1.00        36\n",
            "           7       0.97      1.00      0.99        36\n",
            "           8       1.00      0.94      0.97        35\n",
            "           9       1.00      0.94      0.97        36\n",
            "\n",
            "    accuracy                           0.98       360\n",
            "   macro avg       0.98      0.98      0.98       360\n",
            "weighted avg       0.98      0.98      0.98       360\n",
            "\n",
            "Confusion Matrix:\n",
            " [[36  0  0  0  0  0  0  0  0  0]\n",
            " [ 0 37  0  0  0  0  0  0  0  0]\n",
            " [ 0  0 34  1  0  0  0  0  0  0]\n",
            " [ 0  0  0 36  0  0  0  1  0  0]\n",
            " [ 0  0  0  0 36  0  0  0  0  0]\n",
            " [ 0  0  0  0  0 36  0  0  0  0]\n",
            " [ 0  0  0  0  0  0 36  0  0  0]\n",
            " [ 0  0  0  0  0  0  0 36  0  0]\n",
            " [ 0  2  0  0  0  0  0  0 33  0]\n",
            " [ 0  1  0  1  0  0  0  0  0 34]]\n"
          ]
        }
      ]
    },
    {
      "cell_type": "markdown",
      "source": [
        "# Model 2\n",
        ">Support Vector Classifier"
      ],
      "metadata": {
        "id": "Ir1KSGPgM7oc"
      }
    },
    {
      "cell_type": "code",
      "source": [
        "    # Train\n",
        "svc_model.fit(X_train, y_train)\n",
        "\n",
        "    # Predict\n",
        "svc_preds = svc_model.predict(X_test)\n",
        "\n",
        "    # Evaluate\n",
        "print(\"---- Support Vector Classifier ----\")\n",
        "print(\"Accuracy:\", accuracy_score(y_test, svc_preds))\n",
        "print(\"Classification Report:\\n\", classification_report(y_test, svc_preds))\n",
        "print(\"Confusion Matrix:\\n\", confusion_matrix(y_test, svc_preds))"
      ],
      "metadata": {
        "colab": {
          "base_uri": "https://localhost:8080/"
        },
        "id": "V2zepvigLZ8V",
        "outputId": "53ecfc1f-99a8-429d-bcb2-9c3a2439c845"
      },
      "execution_count": 10,
      "outputs": [
        {
          "output_type": "stream",
          "name": "stdout",
          "text": [
            "---- Support Vector Classifier ----\n",
            "Accuracy: 0.9888888888888889\n",
            "Classification Report:\n",
            "               precision    recall  f1-score   support\n",
            "\n",
            "           0       1.00      1.00      1.00        36\n",
            "           1       0.97      1.00      0.99        37\n",
            "           2       1.00      1.00      1.00        35\n",
            "           3       1.00      1.00      1.00        37\n",
            "           4       1.00      0.97      0.99        36\n",
            "           5       0.97      1.00      0.99        36\n",
            "           6       1.00      1.00      1.00        36\n",
            "           7       1.00      0.97      0.99        36\n",
            "           8       0.97      0.97      0.97        35\n",
            "           9       0.97      0.97      0.97        36\n",
            "\n",
            "    accuracy                           0.99       360\n",
            "   macro avg       0.99      0.99      0.99       360\n",
            "weighted avg       0.99      0.99      0.99       360\n",
            "\n",
            "Confusion Matrix:\n",
            " [[36  0  0  0  0  0  0  0  0  0]\n",
            " [ 0 37  0  0  0  0  0  0  0  0]\n",
            " [ 0  0 35  0  0  0  0  0  0  0]\n",
            " [ 0  0  0 37  0  0  0  0  0  0]\n",
            " [ 0  0  0  0 35  0  0  0  1  0]\n",
            " [ 0  0  0  0  0 36  0  0  0  0]\n",
            " [ 0  0  0  0  0  0 36  0  0  0]\n",
            " [ 0  0  0  0  0  0  0 35  0  1]\n",
            " [ 0  1  0  0  0  0  0  0 34  0]\n",
            " [ 0  0  0  0  0  1  0  0  0 35]]\n"
          ]
        }
      ]
    },
    {
      "cell_type": "markdown",
      "source": [
        "# Model 3\n",
        ">Gaussian Naive Bayes"
      ],
      "metadata": {
        "id": "I2D6-QuGvKaa"
      }
    },
    {
      "cell_type": "code",
      "source": [
        "    # Train\n",
        "gnb_model.fit(X_train, y_train)\n",
        "\n",
        "    # Predict\n",
        "gnb_preds = gnb_model.predict(X_test)\n",
        "\n",
        "    # Evaluate\n",
        "print(\"---- Gaussian Naive Bayes ----\")\n",
        "print(\"Accuracy:\", accuracy_score(y_test, gnb_preds))\n",
        "print(\"Classification Report:\\n\", classification_report(y_test, gnb_preds))\n",
        "print(\"Confusion Matrix:\\n\", confusion_matrix(y_test, gnb_preds))"
      ],
      "metadata": {
        "colab": {
          "base_uri": "https://localhost:8080/"
        },
        "id": "TiGaccX7mL6h",
        "outputId": "5f817fef-8375-41ce-c280-8327365e5945"
      },
      "execution_count": 11,
      "outputs": [
        {
          "output_type": "stream",
          "name": "stdout",
          "text": [
            "---- Gaussian Naive Bayes ----\n",
            "Accuracy: 0.8222222222222222\n",
            "Classification Report:\n",
            "               precision    recall  f1-score   support\n",
            "\n",
            "           0       1.00      0.97      0.99        36\n",
            "           1       0.71      0.92      0.80        37\n",
            "           2       0.80      0.46      0.58        35\n",
            "           3       0.93      0.68      0.78        37\n",
            "           4       0.94      0.83      0.88        36\n",
            "           5       0.91      0.89      0.90        36\n",
            "           6       1.00      1.00      1.00        36\n",
            "           7       0.77      1.00      0.87        36\n",
            "           8       0.52      0.83      0.64        35\n",
            "           9       0.96      0.64      0.77        36\n",
            "\n",
            "    accuracy                           0.82       360\n",
            "   macro avg       0.85      0.82      0.82       360\n",
            "weighted avg       0.85      0.82      0.82       360\n",
            "\n",
            "Confusion Matrix:\n",
            " [[35  0  0  0  0  1  0  0  0  0]\n",
            " [ 0 34  1  0  0  0  0  0  1  1]\n",
            " [ 0  6 16  0  0  0  0  0 13  0]\n",
            " [ 0  1  1 25  0  2  0  3  5  0]\n",
            " [ 0  1  1  0 30  0  0  4  0  0]\n",
            " [ 0  1  0  0  0 32  0  2  1  0]\n",
            " [ 0  0  0  0  0  0 36  0  0  0]\n",
            " [ 0  0  0  0  0  0  0 36  0  0]\n",
            " [ 0  4  1  0  0  0  0  1 29  0]\n",
            " [ 0  1  0  2  2  0  0  1  7 23]]\n"
          ]
        }
      ]
    },
    {
      "cell_type": "markdown",
      "source": [
        "# Model 4\n",
        "(Model 4 & 5 To compare against functions I am already familiar with)\n",
        ">Tree vs Forest"
      ],
      "metadata": {
        "id": "ST_65BX0GaGN"
      }
    },
    {
      "cell_type": "code",
      "source": [
        "    # Compare decision tree against random forest\n",
        "from sklearn.tree import DecisionTreeClassifier\n",
        "from sklearn.ensemble import RandomForestClassifier\n",
        "\n",
        "    # Initialize models\n",
        "dt_model = DecisionTreeClassifier(random_state=675)\n",
        "rf_model = RandomForestClassifier(random_state=675)\n",
        "\n",
        "    # Train models\n",
        "dt_model.fit(X_train, y_train)\n",
        "rf_model.fit(X_train, y_train)\n",
        "\n",
        "    # Predict\n",
        "dt_preds = dt_model.predict(X_test)\n",
        "rf_preds = rf_model.predict(X_test)\n",
        "\n",
        "    # Evaluate Decision Tree\n",
        "print(\"---- Decision Tree ----\")\n",
        "print(\"Accuracy:\", accuracy_score(y_test, dt_preds))\n",
        "print(\"Classification Report:\\n\", classification_report(y_test, dt_preds))\n",
        "print(\"Confusion Matrix:\\n\", confusion_matrix(y_test, dt_preds))\n",
        "\n",
        "    # Evaluate Random Forest\n",
        "print(\"\\n---- Random Forest ----\")\n",
        "print(\"Accuracy:\", accuracy_score(y_test, rf_preds))\n",
        "print(\"Classification Report:\\n\", classification_report(y_test, rf_preds))\n",
        "print(\"Confusion Matrix:\\n\", confusion_matrix(y_test, rf_preds))"
      ],
      "metadata": {
        "colab": {
          "base_uri": "https://localhost:8080/"
        },
        "id": "UUCzxusgGZUa",
        "outputId": "8b5c048b-f82c-4b84-d054-76579650608a"
      },
      "execution_count": 12,
      "outputs": [
        {
          "output_type": "stream",
          "name": "stdout",
          "text": [
            "---- Decision Tree ----\n",
            "Accuracy: 0.8611111111111112\n",
            "Classification Report:\n",
            "               precision    recall  f1-score   support\n",
            "\n",
            "           0       1.00      0.97      0.99        36\n",
            "           1       0.82      0.89      0.86        37\n",
            "           2       0.86      0.86      0.86        35\n",
            "           3       0.90      0.73      0.81        37\n",
            "           4       0.74      0.81      0.77        36\n",
            "           5       0.94      0.94      0.94        36\n",
            "           6       0.97      0.92      0.94        36\n",
            "           7       0.86      0.89      0.88        36\n",
            "           8       0.81      0.83      0.82        35\n",
            "           9       0.74      0.78      0.76        36\n",
            "\n",
            "    accuracy                           0.86       360\n",
            "   macro avg       0.86      0.86      0.86       360\n",
            "weighted avg       0.86      0.86      0.86       360\n",
            "\n",
            "Confusion Matrix:\n",
            " [[35  0  0  0  1  0  0  0  0  0]\n",
            " [ 0 33  1  1  2  0  0  0  0  0]\n",
            " [ 0  1 30  0  0  0  1  1  0  2]\n",
            " [ 0  0  0 27  1  0  0  1  5  3]\n",
            " [ 0  3  0  0 29  0  0  3  0  1]\n",
            " [ 0  0  0  0  1 34  0  0  0  1]\n",
            " [ 0  0  1  0  2  0 33  0  0  0]\n",
            " [ 0  1  0  0  1  0  0 32  1  1]\n",
            " [ 0  1  2  0  0  1  0  0 29  2]\n",
            " [ 0  1  1  2  2  1  0  0  1 28]]\n",
            "\n",
            "---- Random Forest ----\n",
            "Accuracy: 0.9777777777777777\n",
            "Classification Report:\n",
            "               precision    recall  f1-score   support\n",
            "\n",
            "           0       0.97      1.00      0.99        36\n",
            "           1       0.95      1.00      0.97        37\n",
            "           2       1.00      1.00      1.00        35\n",
            "           3       1.00      0.95      0.97        37\n",
            "           4       1.00      1.00      1.00        36\n",
            "           5       0.92      1.00      0.96        36\n",
            "           6       1.00      0.97      0.99        36\n",
            "           7       1.00      0.97      0.99        36\n",
            "           8       0.97      0.91      0.94        35\n",
            "           9       0.97      0.97      0.97        36\n",
            "\n",
            "    accuracy                           0.98       360\n",
            "   macro avg       0.98      0.98      0.98       360\n",
            "weighted avg       0.98      0.98      0.98       360\n",
            "\n",
            "Confusion Matrix:\n",
            " [[36  0  0  0  0  0  0  0  0  0]\n",
            " [ 0 37  0  0  0  0  0  0  0  0]\n",
            " [ 0  0 35  0  0  0  0  0  0  0]\n",
            " [ 0  0  0 35  0  1  0  0  1  0]\n",
            " [ 0  0  0  0 36  0  0  0  0  0]\n",
            " [ 0  0  0  0  0 36  0  0  0  0]\n",
            " [ 1  0  0  0  0  0 35  0  0  0]\n",
            " [ 0  0  0  0  0  0  0 35  0  1]\n",
            " [ 0  2  0  0  0  1  0  0 32  0]\n",
            " [ 0  0  0  0  0  1  0  0  0 35]]\n"
          ]
        }
      ]
    },
    {
      "cell_type": "markdown",
      "source": [
        "# Model 5\n",
        ">Logistic Regression"
      ],
      "metadata": {
        "id": "yP_fs9SlJN0f"
      }
    },
    {
      "cell_type": "code",
      "source": [
        "from sklearn.linear_model import LogisticRegression\n",
        "\n",
        "    # Initialize model\n",
        "lr_model = LogisticRegression(max_iter=1000, random_state=675)\n",
        "\n",
        "    # Train\n",
        "lr_model.fit(X_train, y_train)\n",
        "\n",
        "    # Predict\n",
        "lr_preds = lr_model.predict(X_test)\n",
        "\n",
        "    # Evaluate\n",
        "print(\"---- Logistic Regression ----\")\n",
        "print(\"Accuracy:\", accuracy_score(y_test, lr_preds))\n",
        "print(\"Classification Report:\\n\", classification_report(y_test, lr_preds))\n",
        "print(\"Confusion Matrix:\\n\", confusion_matrix(y_test, lr_preds))"
      ],
      "metadata": {
        "colab": {
          "base_uri": "https://localhost:8080/"
        },
        "id": "YMAoOzSLJPPt",
        "outputId": "e85d43db-eb7d-477b-979a-bc9c1a2e7dec"
      },
      "execution_count": 13,
      "outputs": [
        {
          "output_type": "stream",
          "name": "stdout",
          "text": [
            "---- Logistic Regression ----\n",
            "Accuracy: 0.975\n",
            "Classification Report:\n",
            "               precision    recall  f1-score   support\n",
            "\n",
            "           0       1.00      1.00      1.00        36\n",
            "           1       0.97      0.97      0.97        37\n",
            "           2       1.00      1.00      1.00        35\n",
            "           3       1.00      0.95      0.97        37\n",
            "           4       0.97      0.97      0.97        36\n",
            "           5       0.90      0.97      0.93        36\n",
            "           6       1.00      1.00      1.00        36\n",
            "           7       1.00      0.97      0.99        36\n",
            "           8       0.94      0.94      0.94        35\n",
            "           9       0.97      0.97      0.97        36\n",
            "\n",
            "    accuracy                           0.97       360\n",
            "   macro avg       0.98      0.98      0.98       360\n",
            "weighted avg       0.98      0.97      0.98       360\n",
            "\n",
            "Confusion Matrix:\n",
            " [[36  0  0  0  0  0  0  0  0  0]\n",
            " [ 0 36  0  0  0  0  0  0  1  0]\n",
            " [ 0  0 35  0  0  0  0  0  0  0]\n",
            " [ 0  0  0 35  0  1  0  0  1  0]\n",
            " [ 0  1  0  0 35  0  0  0  0  0]\n",
            " [ 0  0  0  0  0 35  0  0  0  1]\n",
            " [ 0  0  0  0  0  0 36  0  0  0]\n",
            " [ 0  0  0  0  0  1  0 35  0  0]\n",
            " [ 0  0  0  0  1  1  0  0 33  0]\n",
            " [ 0  0  0  0  0  1  0  0  0 35]]\n"
          ]
        }
      ]
    },
    {
      "cell_type": "markdown",
      "source": [
        "# Evaluate all results  \n",
        "In this assignment, I trained and evaluated six classification models on the digits dataset. The models included K-Nearest Neighbors (KNN), Support Vector Classifier (SVC), Gaussian Naive Bayes (GNB), Random Forest, Decision Tree, and Logistic Regression. Among them, KNN and SVC delivered the highest accuracy at over 98.0%, followed closely by Logistic Regression (97.5%) and Random Forest (97.2%). The Decision Tree and GNB models performed lower, with accuracies in the low 80s percentile.\n",
        "\n",
        "Both the confusion matrices and classification reports show KNN and SVC maintained consistent precision and recall across all digit classes. These results highlight the strength of margin-based and instance-based methods on image data, especially when feature distributions are complex or nonlinear.  \n",
        "  \n",
        "# Tuning KNN and SVC models\n",
        "Tune KNN model (adjusting k first: 5(default), 3, 7, 9 then weights)"
      ],
      "metadata": {
        "id": "CC0oxy7B2_Z_"
      }
    },
    {
      "cell_type": "code",
      "source": [
        "knn_model3 = KNeighborsClassifier(n_neighbors=3, weights='uniform')\n",
        "\n",
        "# Train\n",
        "knn_model3.fit(X_train, y_train)\n",
        "\n",
        "# Predict\n",
        "knn_preds = knn_model3.predict(X_test)\n",
        "\n",
        "# Evaluate\n",
        "print(\"---- KNN (n=3, uniform-weighted) ----\")\n",
        "print(\"Accuracy:\", accuracy_score(y_test, knn_preds))\n",
        "print(\"Classification Report:\\n\", classification_report(y_test, knn_preds))\n",
        "print(\"Confusion Matrix:\\n\", confusion_matrix(y_test, knn_preds))"
      ],
      "metadata": {
        "colab": {
          "base_uri": "https://localhost:8080/"
        },
        "id": "Kyt4WG8gLYO7",
        "outputId": "58ad58d6-7647-455a-8a54-6b4138f8d1b4"
      },
      "execution_count": 14,
      "outputs": [
        {
          "output_type": "stream",
          "name": "stdout",
          "text": [
            "---- KNN (n=3, uniform-weighted) ----\n",
            "Accuracy: 0.9888888888888889\n",
            "Classification Report:\n",
            "               precision    recall  f1-score   support\n",
            "\n",
            "           0       1.00      1.00      1.00        36\n",
            "           1       0.95      1.00      0.97        37\n",
            "           2       1.00      1.00      1.00        35\n",
            "           3       1.00      0.97      0.99        37\n",
            "           4       1.00      1.00      1.00        36\n",
            "           5       1.00      1.00      1.00        36\n",
            "           6       1.00      1.00      1.00        36\n",
            "           7       0.97      0.97      0.97        36\n",
            "           8       1.00      0.97      0.99        35\n",
            "           9       0.97      0.97      0.97        36\n",
            "\n",
            "    accuracy                           0.99       360\n",
            "   macro avg       0.99      0.99      0.99       360\n",
            "weighted avg       0.99      0.99      0.99       360\n",
            "\n",
            "Confusion Matrix:\n",
            " [[36  0  0  0  0  0  0  0  0  0]\n",
            " [ 0 37  0  0  0  0  0  0  0  0]\n",
            " [ 0  0 35  0  0  0  0  0  0  0]\n",
            " [ 0  0  0 36  0  0  0  1  0  0]\n",
            " [ 0  0  0  0 36  0  0  0  0  0]\n",
            " [ 0  0  0  0  0 36  0  0  0  0]\n",
            " [ 0  0  0  0  0  0 36  0  0  0]\n",
            " [ 0  0  0  0  0  0  0 35  0  1]\n",
            " [ 0  1  0  0  0  0  0  0 34  0]\n",
            " [ 0  1  0  0  0  0  0  0  0 35]]\n"
          ]
        }
      ]
    },
    {
      "cell_type": "code",
      "source": [
        "knn_model7 = KNeighborsClassifier(n_neighbors=7, weights='uniform')\n",
        "\n",
        "# Train\n",
        "knn_model7.fit(X_train, y_train)\n",
        "\n",
        "# Predict\n",
        "knn_preds = knn_model7.predict(X_test)\n",
        "\n",
        "# Evaluate\n",
        "print(\"---- KNN (n=7, uniform-weighted) ----\")\n",
        "print(\"Accuracy:\", accuracy_score(y_test, knn_preds))\n",
        "print(\"Classification Report:\\n\", classification_report(y_test, knn_preds))\n",
        "print(\"Confusion Matrix:\\n\", confusion_matrix(y_test, knn_preds))"
      ],
      "metadata": {
        "colab": {
          "base_uri": "https://localhost:8080/"
        },
        "outputId": "72ec4040-7d25-45ce-f178-313dece3894c",
        "id": "ZwCe--FLXMZZ"
      },
      "execution_count": 15,
      "outputs": [
        {
          "output_type": "stream",
          "name": "stdout",
          "text": [
            "---- KNN (n=7, uniform-weighted) ----\n",
            "Accuracy: 0.9861111111111112\n",
            "Classification Report:\n",
            "               precision    recall  f1-score   support\n",
            "\n",
            "           0       1.00      1.00      1.00        36\n",
            "           1       0.93      1.00      0.96        37\n",
            "           2       1.00      0.97      0.99        35\n",
            "           3       1.00      0.97      0.99        37\n",
            "           4       1.00      1.00      1.00        36\n",
            "           5       1.00      1.00      1.00        36\n",
            "           6       1.00      1.00      1.00        36\n",
            "           7       0.95      1.00      0.97        36\n",
            "           8       1.00      0.94      0.97        35\n",
            "           9       1.00      0.97      0.99        36\n",
            "\n",
            "    accuracy                           0.99       360\n",
            "   macro avg       0.99      0.99      0.99       360\n",
            "weighted avg       0.99      0.99      0.99       360\n",
            "\n",
            "Confusion Matrix:\n",
            " [[36  0  0  0  0  0  0  0  0  0]\n",
            " [ 0 37  0  0  0  0  0  0  0  0]\n",
            " [ 0  0 34  0  0  0  0  1  0  0]\n",
            " [ 0  0  0 36  0  0  0  1  0  0]\n",
            " [ 0  0  0  0 36  0  0  0  0  0]\n",
            " [ 0  0  0  0  0 36  0  0  0  0]\n",
            " [ 0  0  0  0  0  0 36  0  0  0]\n",
            " [ 0  0  0  0  0  0  0 36  0  0]\n",
            " [ 0  2  0  0  0  0  0  0 33  0]\n",
            " [ 0  1  0  0  0  0  0  0  0 35]]\n"
          ]
        }
      ]
    },
    {
      "cell_type": "code",
      "source": [
        "knn_model9 = KNeighborsClassifier(n_neighbors=9, weights='uniform')\n",
        "\n",
        "# Train\n",
        "knn_model9.fit(X_train, y_train)\n",
        "\n",
        "# Predict\n",
        "knn_preds = knn_model9.predict(X_test)\n",
        "\n",
        "# Evaluate\n",
        "print(\"---- KNN (n=9, uniform-weighted) ----\")\n",
        "print(\"Accuracy:\", accuracy_score(y_test, knn_preds))\n",
        "print(\"Classification Report:\\n\", classification_report(y_test, knn_preds))\n",
        "print(\"Confusion Matrix:\\n\", confusion_matrix(y_test, knn_preds))"
      ],
      "metadata": {
        "colab": {
          "base_uri": "https://localhost:8080/"
        },
        "id": "BNk7XovPXbRj",
        "outputId": "e0b4b094-7905-410b-e3a4-ef529e1d3999"
      },
      "execution_count": 16,
      "outputs": [
        {
          "output_type": "stream",
          "name": "stdout",
          "text": [
            "---- KNN (n=9, uniform-weighted) ----\n",
            "Accuracy: 0.9861111111111112\n",
            "Classification Report:\n",
            "               precision    recall  f1-score   support\n",
            "\n",
            "           0       1.00      1.00      1.00        36\n",
            "           1       0.95      1.00      0.97        37\n",
            "           2       1.00      0.97      0.99        35\n",
            "           3       1.00      0.97      0.99        37\n",
            "           4       1.00      1.00      1.00        36\n",
            "           5       0.97      1.00      0.99        36\n",
            "           6       1.00      1.00      1.00        36\n",
            "           7       0.95      1.00      0.97        36\n",
            "           8       1.00      0.97      0.99        35\n",
            "           9       1.00      0.94      0.97        36\n",
            "\n",
            "    accuracy                           0.99       360\n",
            "   macro avg       0.99      0.99      0.99       360\n",
            "weighted avg       0.99      0.99      0.99       360\n",
            "\n",
            "Confusion Matrix:\n",
            " [[36  0  0  0  0  0  0  0  0  0]\n",
            " [ 0 37  0  0  0  0  0  0  0  0]\n",
            " [ 0  0 34  0  0  0  0  1  0  0]\n",
            " [ 0  0  0 36  0  0  0  1  0  0]\n",
            " [ 0  0  0  0 36  0  0  0  0  0]\n",
            " [ 0  0  0  0  0 36  0  0  0  0]\n",
            " [ 0  0  0  0  0  0 36  0  0  0]\n",
            " [ 0  0  0  0  0  0  0 36  0  0]\n",
            " [ 0  1  0  0  0  0  0  0 34  0]\n",
            " [ 0  1  0  0  0  1  0  0  0 34]]\n"
          ]
        }
      ]
    },
    {
      "cell_type": "code",
      "source": [
        "knn_modelD = KNeighborsClassifier(n_neighbors=3, weights='distance')\n",
        "\n",
        "# Train\n",
        "knn_modelD.fit(X_train, y_train)\n",
        "\n",
        "# Predict\n",
        "knn_preds = knn_modelD.predict(X_test)\n",
        "\n",
        "# Evaluate\n",
        "print(\"---- KNN (n=3, distance-weighted) ----\")\n",
        "print(\"Accuracy:\", accuracy_score(y_test, knn_preds))\n",
        "print(\"Classification Report:\\n\", classification_report(y_test, knn_preds))\n",
        "print(\"Confusion Matrix:\\n\", confusion_matrix(y_test, knn_preds))"
      ],
      "metadata": {
        "colab": {
          "base_uri": "https://localhost:8080/"
        },
        "id": "S1GcFy8RXcdH",
        "outputId": "67ee7dc1-0dc1-4391-868f-e3eb80d250da"
      },
      "execution_count": 17,
      "outputs": [
        {
          "output_type": "stream",
          "name": "stdout",
          "text": [
            "---- KNN (n=3, distance-weighted) ----\n",
            "Accuracy: 0.9861111111111112\n",
            "Classification Report:\n",
            "               precision    recall  f1-score   support\n",
            "\n",
            "           0       1.00      1.00      1.00        36\n",
            "           1       0.95      1.00      0.97        37\n",
            "           2       1.00      0.97      0.99        35\n",
            "           3       0.97      0.97      0.97        37\n",
            "           4       1.00      1.00      1.00        36\n",
            "           5       1.00      1.00      1.00        36\n",
            "           6       1.00      1.00      1.00        36\n",
            "           7       0.97      0.97      0.97        36\n",
            "           8       1.00      0.97      0.99        35\n",
            "           9       0.97      0.97      0.97        36\n",
            "\n",
            "    accuracy                           0.99       360\n",
            "   macro avg       0.99      0.99      0.99       360\n",
            "weighted avg       0.99      0.99      0.99       360\n",
            "\n",
            "Confusion Matrix:\n",
            " [[36  0  0  0  0  0  0  0  0  0]\n",
            " [ 0 37  0  0  0  0  0  0  0  0]\n",
            " [ 0  0 34  1  0  0  0  0  0  0]\n",
            " [ 0  0  0 36  0  0  0  1  0  0]\n",
            " [ 0  0  0  0 36  0  0  0  0  0]\n",
            " [ 0  0  0  0  0 36  0  0  0  0]\n",
            " [ 0  0  0  0  0  0 36  0  0  0]\n",
            " [ 0  0  0  0  0  0  0 35  0  1]\n",
            " [ 0  1  0  0  0  0  0  0 34  0]\n",
            " [ 0  1  0  0  0  0  0  0  0 35]]\n"
          ]
        }
      ]
    },
    {
      "cell_type": "markdown",
      "source": [
        "Tune SVC model (adjust C: 1(default), 5, 10 and then class_weight)"
      ],
      "metadata": {
        "id": "SQV1yajzPT4E"
      }
    },
    {
      "cell_type": "code",
      "source": [
        "svc_model5 = SVC(C=5, random_state=675)\n",
        "    # Train\n",
        "svc_model5.fit(X_train, y_train)\n",
        "\n",
        "    # Predict\n",
        "svc_preds = svc_model5.predict(X_test)\n",
        "\n",
        "    # Evaluate\n",
        "print(\"---- Support Vector Classifier ----\")\n",
        "print(\"Accuracy:\", accuracy_score(y_test, svc_preds))\n",
        "print(\"Classification Report:\\n\", classification_report(y_test, svc_preds))\n",
        "print(\"Confusion Matrix:\\n\", confusion_matrix(y_test, svc_preds))"
      ],
      "metadata": {
        "colab": {
          "base_uri": "https://localhost:8080/"
        },
        "id": "1jr29TdZahgx",
        "outputId": "48bd7ac6-fc57-4750-f67e-8dfdc3d607de"
      },
      "execution_count": 18,
      "outputs": [
        {
          "output_type": "stream",
          "name": "stdout",
          "text": [
            "---- Support Vector Classifier ----\n",
            "Accuracy: 0.9916666666666667\n",
            "Classification Report:\n",
            "               precision    recall  f1-score   support\n",
            "\n",
            "           0       1.00      1.00      1.00        36\n",
            "           1       1.00      1.00      1.00        37\n",
            "           2       1.00      1.00      1.00        35\n",
            "           3       1.00      0.97      0.99        37\n",
            "           4       1.00      1.00      1.00        36\n",
            "           5       0.95      1.00      0.97        36\n",
            "           6       1.00      1.00      1.00        36\n",
            "           7       1.00      0.97      0.99        36\n",
            "           8       1.00      1.00      1.00        35\n",
            "           9       0.97      0.97      0.97        36\n",
            "\n",
            "    accuracy                           0.99       360\n",
            "   macro avg       0.99      0.99      0.99       360\n",
            "weighted avg       0.99      0.99      0.99       360\n",
            "\n",
            "Confusion Matrix:\n",
            " [[36  0  0  0  0  0  0  0  0  0]\n",
            " [ 0 37  0  0  0  0  0  0  0  0]\n",
            " [ 0  0 35  0  0  0  0  0  0  0]\n",
            " [ 0  0  0 36  0  1  0  0  0  0]\n",
            " [ 0  0  0  0 36  0  0  0  0  0]\n",
            " [ 0  0  0  0  0 36  0  0  0  0]\n",
            " [ 0  0  0  0  0  0 36  0  0  0]\n",
            " [ 0  0  0  0  0  0  0 35  0  1]\n",
            " [ 0  0  0  0  0  0  0  0 35  0]\n",
            " [ 0  0  0  0  0  1  0  0  0 35]]\n"
          ]
        }
      ]
    },
    {
      "cell_type": "code",
      "source": [
        "svc_model0 = SVC(C=10, random_state=675)\n",
        "    # Train\n",
        "svc_model0.fit(X_train, y_train)\n",
        "\n",
        "    # Predict\n",
        "svc_preds = svc_model0.predict(X_test)\n",
        "\n",
        "    # Evaluate\n",
        "print(\"---- Support Vector Classifier ----\")\n",
        "print(\"Accuracy:\", accuracy_score(y_test, svc_preds))\n",
        "print(\"Classification Report:\\n\", classification_report(y_test, svc_preds))\n",
        "print(\"Confusion Matrix:\\n\", confusion_matrix(y_test, svc_preds))"
      ],
      "metadata": {
        "colab": {
          "base_uri": "https://localhost:8080/"
        },
        "id": "ZRc-ZQXaPTlr",
        "outputId": "6c059fdb-c645-4894-c7ca-5f08a034dc36"
      },
      "execution_count": 19,
      "outputs": [
        {
          "output_type": "stream",
          "name": "stdout",
          "text": [
            "---- Support Vector Classifier ----\n",
            "Accuracy: 0.9916666666666667\n",
            "Classification Report:\n",
            "               precision    recall  f1-score   support\n",
            "\n",
            "           0       1.00      1.00      1.00        36\n",
            "           1       1.00      1.00      1.00        37\n",
            "           2       1.00      1.00      1.00        35\n",
            "           3       1.00      0.97      0.99        37\n",
            "           4       1.00      1.00      1.00        36\n",
            "           5       0.95      1.00      0.97        36\n",
            "           6       1.00      1.00      1.00        36\n",
            "           7       1.00      0.97      0.99        36\n",
            "           8       1.00      1.00      1.00        35\n",
            "           9       0.97      0.97      0.97        36\n",
            "\n",
            "    accuracy                           0.99       360\n",
            "   macro avg       0.99      0.99      0.99       360\n",
            "weighted avg       0.99      0.99      0.99       360\n",
            "\n",
            "Confusion Matrix:\n",
            " [[36  0  0  0  0  0  0  0  0  0]\n",
            " [ 0 37  0  0  0  0  0  0  0  0]\n",
            " [ 0  0 35  0  0  0  0  0  0  0]\n",
            " [ 0  0  0 36  0  1  0  0  0  0]\n",
            " [ 0  0  0  0 36  0  0  0  0  0]\n",
            " [ 0  0  0  0  0 36  0  0  0  0]\n",
            " [ 0  0  0  0  0  0 36  0  0  0]\n",
            " [ 0  0  0  0  0  0  0 35  0  1]\n",
            " [ 0  0  0  0  0  0  0  0 35  0]\n",
            " [ 0  0  0  0  0  1  0  0  0 35]]\n"
          ]
        }
      ]
    },
    {
      "cell_type": "code",
      "source": [
        "svc_modelB = SVC(C=10, random_state=675, class_weight='balanced')\n",
        "    # Train\n",
        "svc_modelB.fit(X_train, y_train)\n",
        "\n",
        "    # Predict\n",
        "svc_preds = svc_modelB.predict(X_test)\n",
        "\n",
        "    # Evaluate\n",
        "print(\"---- Support Vector Classifier ----\")\n",
        "print(\"Accuracy:\", accuracy_score(y_test, svc_preds))\n",
        "print(\"Classification Report:\\n\", classification_report(y_test, svc_preds))\n",
        "print(\"Confusion Matrix:\\n\", confusion_matrix(y_test, svc_preds))"
      ],
      "metadata": {
        "colab": {
          "base_uri": "https://localhost:8080/"
        },
        "id": "FjzVGUAsa1kz",
        "outputId": "11086560-1038-4459-f792-ed94c1f45b42"
      },
      "execution_count": 20,
      "outputs": [
        {
          "output_type": "stream",
          "name": "stdout",
          "text": [
            "---- Support Vector Classifier ----\n",
            "Accuracy: 0.9916666666666667\n",
            "Classification Report:\n",
            "               precision    recall  f1-score   support\n",
            "\n",
            "           0       1.00      1.00      1.00        36\n",
            "           1       1.00      1.00      1.00        37\n",
            "           2       1.00      1.00      1.00        35\n",
            "           3       1.00      0.97      0.99        37\n",
            "           4       1.00      1.00      1.00        36\n",
            "           5       0.95      1.00      0.97        36\n",
            "           6       1.00      1.00      1.00        36\n",
            "           7       1.00      0.97      0.99        36\n",
            "           8       1.00      1.00      1.00        35\n",
            "           9       0.97      0.97      0.97        36\n",
            "\n",
            "    accuracy                           0.99       360\n",
            "   macro avg       0.99      0.99      0.99       360\n",
            "weighted avg       0.99      0.99      0.99       360\n",
            "\n",
            "Confusion Matrix:\n",
            " [[36  0  0  0  0  0  0  0  0  0]\n",
            " [ 0 37  0  0  0  0  0  0  0  0]\n",
            " [ 0  0 35  0  0  0  0  0  0  0]\n",
            " [ 0  0  0 36  0  1  0  0  0  0]\n",
            " [ 0  0  0  0 36  0  0  0  0  0]\n",
            " [ 0  0  0  0  0 36  0  0  0  0]\n",
            " [ 0  0  0  0  0  0 36  0  0  0]\n",
            " [ 0  0  0  0  0  0  0 35  0  1]\n",
            " [ 0  0  0  0  0  0  0  0 35  0]\n",
            " [ 0  0  0  0  0  1  0  0  0 35]]\n"
          ]
        }
      ]
    },
    {
      "cell_type": "code",
      "source": [
        "    # C=5, 10, and C=2 had the same improved results\n",
        "svc_model_BEST = SVC(C=1.9, random_state=675)\n",
        "    # Train\n",
        "svc_model_BEST.fit(X_train, y_train)\n",
        "\n",
        "    # Predict\n",
        "svc_preds = svc_model_BEST.predict(X_test)\n",
        "\n",
        "    # Evaluate\n",
        "print(\"---- Support Vector Classifier ----\")\n",
        "print(\"Accuracy:\", accuracy_score(y_test, svc_preds))\n",
        "print(\"Classification Report:\\n\", classification_report(y_test, svc_preds))\n",
        "print(\"Confusion Matrix:\\n\", confusion_matrix(y_test, svc_preds))"
      ],
      "metadata": {
        "colab": {
          "base_uri": "https://localhost:8080/"
        },
        "id": "ZHjbu3xUa0fu",
        "outputId": "813d7d0e-ca58-4184-9e35-b41d69aa9359"
      },
      "execution_count": 28,
      "outputs": [
        {
          "output_type": "stream",
          "name": "stdout",
          "text": [
            "---- Support Vector Classifier ----\n",
            "Accuracy: 0.9944444444444445\n",
            "Classification Report:\n",
            "               precision    recall  f1-score   support\n",
            "\n",
            "           0       1.00      1.00      1.00        36\n",
            "           1       1.00      1.00      1.00        37\n",
            "           2       1.00      1.00      1.00        35\n",
            "           3       1.00      1.00      1.00        37\n",
            "           4       1.00      1.00      1.00        36\n",
            "           5       0.97      1.00      0.99        36\n",
            "           6       1.00      1.00      1.00        36\n",
            "           7       1.00      0.97      0.99        36\n",
            "           8       1.00      1.00      1.00        35\n",
            "           9       0.97      0.97      0.97        36\n",
            "\n",
            "    accuracy                           0.99       360\n",
            "   macro avg       0.99      0.99      0.99       360\n",
            "weighted avg       0.99      0.99      0.99       360\n",
            "\n",
            "Confusion Matrix:\n",
            " [[36  0  0  0  0  0  0  0  0  0]\n",
            " [ 0 37  0  0  0  0  0  0  0  0]\n",
            " [ 0  0 35  0  0  0  0  0  0  0]\n",
            " [ 0  0  0 37  0  0  0  0  0  0]\n",
            " [ 0  0  0  0 36  0  0  0  0  0]\n",
            " [ 0  0  0  0  0 36  0  0  0  0]\n",
            " [ 0  0  0  0  0  0 36  0  0  0]\n",
            " [ 0  0  0  0  0  0  0 35  0  1]\n",
            " [ 0  0  0  0  0  0  0  0 35  0]\n",
            " [ 0  0  0  0  0  1  0  0  0 35]]\n"
          ]
        }
      ]
    },
    {
      "cell_type": "markdown",
      "source": [
        "By tuning KNN (n=3), I was able to increase the results up to match SVC.  \n",
        "However, I was able to increase SVC results to 0.99167 by tuning C to any integer greater than 1. But I also got curious about what happened between 1 and 2 and found a range for C: 1.3-1.9 that returned an accuracy of 0.99444.  \n",
        "This tuned SVC model had the best performance."
      ],
      "metadata": {
        "id": "3Aq1K6a3d1se"
      }
    },
    {
      "cell_type": "markdown",
      "source": [
        "END"
      ],
      "metadata": {
        "id": "VgWYqAunh13u"
      }
    },
    {
      "cell_type": "code",
      "source": [
        "!jupyter nbconvert /content/Noble_ANA675_Wk1.ipynb --to html"
      ],
      "metadata": {
        "colab": {
          "base_uri": "https://localhost:8080/"
        },
        "id": "pJG0LFH1kPjv",
        "outputId": "882b305b-8fe9-48a4-bd92-c137ddde7eab"
      },
      "execution_count": 32,
      "outputs": [
        {
          "output_type": "stream",
          "name": "stdout",
          "text": [
            "[NbConvertApp] Converting notebook /content/Noble_ANA675_Wk1.ipynb to html\n",
            "[NbConvertApp] WARNING | Alternative text is missing on 1 image(s).\n",
            "[NbConvertApp] Writing 377645 bytes to /content/Noble_ANA675_Wk1.html\n"
          ]
        }
      ]
    }
  ]
}